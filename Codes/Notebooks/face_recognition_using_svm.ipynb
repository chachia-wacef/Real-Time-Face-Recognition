{
  "nbformat": 4,
  "nbformat_minor": 0,
  "metadata": {
    "kernelspec": {
      "display_name": "Python 3",
      "language": "python",
      "name": "python3"
    },
    "language_info": {
      "codemirror_mode": {
        "name": "ipython",
        "version": 3
      },
      "file_extension": ".py",
      "mimetype": "text/x-python",
      "name": "python",
      "nbconvert_exporter": "python",
      "pygments_lexer": "ipython3",
      "version": "3.6.6"
    },
    "colab": {
      "name": "face-recognition-using-svm.ipynb",
      "provenance": [],
      "collapsed_sections": []
    }
  },
  "cells": [
    {
      "cell_type": "code",
      "metadata": {
        "_cell_guid": "b1076dfc-b9ad-4769-8c92-a6c4dae69d19",
        "_uuid": "8f2839f25d086af736a60e9eeb907d3b93b6e0e5",
        "id": "Obt9QH6KlLUk",
        "colab": {
          "base_uri": "https://localhost:8080/"
        },
        "outputId": "9242d88a-4827-43c2-c944-689a810c0cac"
      },
      "source": [
        "import numpy as np \n",
        "import pandas as pd \n",
        "import cv2\n",
        "import time\n",
        "import random\n",
        "from tqdm import tqdm\n",
        "import matplotlib.pyplot as plt\n",
        "from skimage.feature import hog\n",
        "import os\n",
        "import re\n",
        "from sklearn.svm import SVC\n",
        "from sklearn.model_selection import train_test_split , GridSearchCV\n",
        "from sklearn.metrics import confusion_matrix, classification_report , accuracy_score\n",
        "from sklearn.externals import joblib"
      ],
      "execution_count": null,
      "outputs": [
        {
          "output_type": "stream",
          "text": [
            "/usr/local/lib/python3.7/dist-packages/sklearn/externals/joblib/__init__.py:15: FutureWarning: sklearn.externals.joblib is deprecated in 0.21 and will be removed in 0.23. Please import this functionality directly from joblib, which can be installed with: pip install joblib. If this warning is raised when loading pickled models, you may need to re-serialize those models with scikit-learn 0.21+.\n",
            "  warnings.warn(msg, category=FutureWarning)\n"
          ],
          "name": "stderr"
        }
      ]
    },
    {
      "cell_type": "code",
      "metadata": {
        "colab": {
          "base_uri": "https://localhost:8080/"
        },
        "id": "BmzL4atDlmyi",
        "outputId": "eb5d01fb-5e2d-4535-c40d-93560d68f536"
      },
      "source": [
        "#Connect to Google Drive\n",
        "from google.colab import drive\n",
        "drive.mount('/content/gdrive')"
      ],
      "execution_count": null,
      "outputs": [
        {
          "output_type": "stream",
          "text": [
            "Mounted at /content/gdrive\n"
          ],
          "name": "stdout"
        }
      ]
    },
    {
      "cell_type": "code",
      "metadata": {
        "id": "EhdFhEErlmvr"
      },
      "source": [
        "!cp -r /content/gdrive/MyDrive/Faces_Data/* /content"
      ],
      "execution_count": null,
      "outputs": []
    },
    {
      "cell_type": "code",
      "metadata": {
        "id": "bAufQulhlt3m"
      },
      "source": [
        "test_dir=\"/content/val\"\n",
        "train_dir=\"/content/train\"\n",
        "train_dir_0 = train_dir + '/0'\n",
        "train_dir_1 = train_dir + '/1'\n",
        "test_dir_0 = test_dir + '/0'\n",
        "test_dir_1 = test_dir + '/1'"
      ],
      "execution_count": null,
      "outputs": []
    },
    {
      "cell_type": "code",
      "metadata": {
        "id": "A4RJiO4Wlt1C",
        "colab": {
          "base_uri": "https://localhost:8080/"
        },
        "outputId": "3ac87c8b-70ed-4eae-f51f-fcb935c977d2"
      },
      "source": [
        "print('number of 0 training images - ',len(os.listdir(train_dir_0)))\n",
        "print('number of 1 training images - ',len(os.listdir(train_dir_1)))\n",
        "print('number of 0 testing images - ',len(os.listdir(test_dir_0)))\n",
        "print('number of 1 testing images - ',len(os.listdir(test_dir_1)))"
      ],
      "execution_count": null,
      "outputs": [
        {
          "output_type": "stream",
          "text": [
            "number of 0 training images -  57\n",
            "number of 1 training images -  264\n",
            "number of 0 testing images -  19\n",
            "number of 1 testing images -  82\n"
          ],
          "name": "stdout"
        }
      ]
    },
    {
      "cell_type": "code",
      "metadata": {
        "colab": {
          "base_uri": "https://localhost:8080/"
        },
        "id": "9qi72dwIf_Sj",
        "outputId": "7320991b-e9a6-479c-e3ea-a12a442060e2"
      },
      "source": [
        "[0] * 3 + [1]*4"
      ],
      "execution_count": null,
      "outputs": [
        {
          "output_type": "execute_result",
          "data": {
            "text/plain": [
              "[0, 0, 0, 1, 1, 1, 1]"
            ]
          },
          "metadata": {
            "tags": []
          },
          "execution_count": 7
        }
      ]
    },
    {
      "cell_type": "code",
      "metadata": {
        "id": "nWXsXfXVgi80"
      },
      "source": [
        "#Labels\n",
        "tr_labels = [1] * len(os.listdir(train_dir_1)) + [0] * len(os.listdir(train_dir_0))\n",
        "ts_labels = [1] * len(os.listdir(test_dir_1)) + [0] * len(os.listdir(test_dir_0))"
      ],
      "execution_count": null,
      "outputs": []
    },
    {
      "cell_type": "code",
      "metadata": {
        "id": "8Kj-fKfYhJq7"
      },
      "source": [
        "#tr-data\n",
        "tr_data = []\n",
        "for filename in os.listdir(train_dir_1):\n",
        "        image = cv2.imread(os.path.join(train_dir_1, filename))\n",
        "        tr_data.append(image)\n",
        "for filename in os.listdir(train_dir_0):\n",
        "        image = cv2.imread(os.path.join(train_dir_0, filename))\n",
        "        tr_data.append(image)"
      ],
      "execution_count": null,
      "outputs": []
    },
    {
      "cell_type": "code",
      "metadata": {
        "id": "kRqYly3LhuMK"
      },
      "source": [
        "#ts-data\n",
        "ts_data = []\n",
        "for filename in os.listdir(test_dir_1):\n",
        "        image = cv2.imread(os.path.join(test_dir_1, filename))\n",
        "        ts_data.append(image)\n",
        "for filename in os.listdir(test_dir_0):\n",
        "        image = cv2.imread(os.path.join(test_dir_0, filename))\n",
        "        ts_data.append(image)"
      ],
      "execution_count": null,
      "outputs": []
    },
    {
      "cell_type": "markdown",
      "metadata": {
        "id": "ZC9QYjOVlLVA"
      },
      "source": [
        ">  Converting to grayscale images"
      ]
    },
    {
      "cell_type": "code",
      "metadata": {
        "id": "U-7co65OlLVL"
      },
      "source": [
        "tr_data_gray = [cv2.cvtColor(tr_data[i] , cv2.COLOR_BGR2GRAY) for i in range(len(tr_data))]\n",
        "ts_data_gray = [cv2.cvtColor(ts_data[i] , cv2.COLOR_BGR2GRAY) for i in range(len(ts_data))]"
      ],
      "execution_count": null,
      "outputs": []
    },
    {
      "cell_type": "code",
      "metadata": {
        "id": "FNmlDSa_lLVo"
      },
      "source": [
        "tr_labels = np.array(tr_labels).reshape(len(tr_labels),1)\n",
        "ts_labels = np.array(ts_labels).reshape(len(ts_labels),1)"
      ],
      "execution_count": null,
      "outputs": []
    },
    {
      "cell_type": "markdown",
      "metadata": {
        "id": "cfnWzyOtlLVq"
      },
      "source": [
        ">  ## HOG Descriptor\n",
        "\n",
        "Let’s look at some important aspects of HOG that makes it different from other feature descriptors:\n",
        "\n",
        "* The HOG descriptor focuses on the structure or the shape of an object. Now you might ask, how is this different from the edge features we extract for images? In the case of edge features, we only identify if the pixel is an edge or not. **HOG is able to provide the edge direction as well.** This is done by extracting the gradient and orientation (or you can say magnitude and direction) of the edges\n",
        "* Additionally, these orientations are calculated in **‘localized’** portions. This means that the complete image is broken down into smaller regions and for each region, the gradients and orientation are calculated. We will discuss this in much more detail in the upcoming sections\n",
        "* Finally the HOG would generate a **Histogram** for each of these regions separately. The histograms are created using the gradients and orientations of the pixel values, hence the name ‘Histogram of Oriented Gradients’ \n",
        "\n",
        "SOURCE: <https://www.analyticsvidhya.com/blog/2019/09/feature-engineering-images-introduction-hog-feature-descriptor/>\n",
        "\n",
        "Using HOG function from skimage.\n",
        "* if you set the parameter ‘visualize = True’, it will return an image of the HOG.\n",
        "\n",
        "+++++++ ======================================================= ++++++++\n",
        "\n",
        "Before going ahead, let me give you a basic idea of what each of these hyperparameters represents.\n",
        "* The orientations are the number of buckets we want to create. Since I want to have a 9 x 1 matrix, I will set the orientations to 9\n",
        "\n",
        "* pixels_per_cell defines the size of the cell for which we create the histograms.We used 8 x 8 cells and you can choose to change this value.\n",
        "\n",
        "* We have another hyperparameter cells_per_block which is the size of the block over which we normalize the histogram. Here, we mention the cells per blocks and not the number of pixels. So, instead of writing 32 x 32, we will use 2 x 2 here."
      ]
    },
    {
      "cell_type": "code",
      "metadata": {
        "id": "W1RBgLS_lAog"
      },
      "source": [
        "ppc =8\n",
        "cb=4"
      ],
      "execution_count": null,
      "outputs": []
    },
    {
      "cell_type": "code",
      "metadata": {
        "id": "QbUUBdbXlLVt",
        "colab": {
          "base_uri": "https://localhost:8080/"
        },
        "outputId": "d03c7919-cf57-482c-8f4b-0b3ebcd60a96"
      },
      "source": [
        "#tr-data\n",
        "tr_hog_features=[]\n",
        "tr_hog_image=[]\n",
        "for image in tqdm(tr_data_gray):\n",
        "    fd , hogim = hog(image , orientations=9 , pixels_per_cell=(ppc , ppc) , block_norm='L2' , cells_per_block=(cb,cb) , visualize=True )\n",
        "    tr_hog_image.append(hogim)\n",
        "    tr_hog_features.append(fd)"
      ],
      "execution_count": null,
      "outputs": [
        {
          "output_type": "stream",
          "text": [
            "100%|██████████| 321/321 [00:48<00:00,  6.61it/s]\n"
          ],
          "name": "stderr"
        }
      ]
    },
    {
      "cell_type": "code",
      "metadata": {
        "colab": {
          "base_uri": "https://localhost:8080/"
        },
        "id": "3dRRdn2ZlKsq",
        "outputId": "bccbb191-6b57-4ebc-f373-a9649b56bc5f"
      },
      "source": [
        "#ts-data\n",
        "ts_hog_features=[]\n",
        "ts_hog_image=[]\n",
        "for image in tqdm(ts_data_gray):\n",
        "    fd , hogim = hog(image , orientations=9 , pixels_per_cell=(ppc , ppc) , block_norm='L2' , cells_per_block=(cb,cb) , visualize=True) \n",
        "    ts_hog_image.append(hogim)\n",
        "    ts_hog_features.append(fd)"
      ],
      "execution_count": null,
      "outputs": [
        {
          "output_type": "stream",
          "text": [
            "100%|██████████| 101/101 [00:15<00:00,  6.61it/s]\n"
          ],
          "name": "stderr"
        }
      ]
    },
    {
      "cell_type": "code",
      "metadata": {
        "id": "BliNI1YWlLVv",
        "colab": {
          "base_uri": "https://localhost:8080/",
          "height": 52
        },
        "outputId": "e60f4ca2-65d7-4b93-99e4-32f26f455289"
      },
      "source": [
        "#> VISUALISING HOG IMAGES\n",
        "'''\n",
        "fig = plt.figure(figsize=(20,15))\n",
        "\n",
        "for i in range(1,10):\n",
        "    index = random.randint(1,10770)\n",
        "    plt.subplot(3,3,i)\n",
        "    plt.imshow(hog_image[index])\n",
        "    plt.xlabel(Labels[index])\n",
        "plt.show()\n",
        "'''"
      ],
      "execution_count": null,
      "outputs": [
        {
          "output_type": "execute_result",
          "data": {
            "application/vnd.google.colaboratory.intrinsic+json": {
              "type": "string"
            },
            "text/plain": [
              "'\\nfig = plt.figure(figsize=(20,15))\\n\\nfor i in range(1,10):\\n    index = random.randint(1,10770)\\n    plt.subplot(3,3,i)\\n    plt.imshow(hog_image[index])\\n    plt.xlabel(Labels[index])\\nplt.show()\\n'"
            ]
          },
          "metadata": {
            "tags": []
          },
          "execution_count": 16
        }
      ]
    },
    {
      "cell_type": "markdown",
      "metadata": {
        "id": "ROF6VrIalLVx"
      },
      "source": [
        ">  ## Create SVM model to fit"
      ]
    },
    {
      "cell_type": "code",
      "metadata": {
        "id": "_2ltHnTllLVy"
      },
      "source": [
        "#train\n",
        "tr_hog_features = np.array(tr_hog_features)\n",
        "tr_df = np.hstack((tr_hog_features,tr_labels))\n",
        "#test\n",
        "ts_hog_features = np.array(ts_hog_features)\n",
        "ts_df = np.hstack((ts_hog_features,ts_labels))"
      ],
      "execution_count": null,
      "outputs": []
    },
    {
      "cell_type": "markdown",
      "metadata": {
        "id": "Z2NczfpElLVz"
      },
      "source": [
        ">  Using PCA for dimension reduction"
      ]
    },
    {
      "cell_type": "code",
      "metadata": {
        "id": "j7wPI_oMlLV3",
        "colab": {
          "base_uri": "https://localhost:8080/"
        },
        "outputId": "5c6d55b8-0fdd-443d-f741-11b8334abde3"
      },
      "source": [
        "from sklearn.decomposition import PCA\n",
        "t= time.time()\n",
        "pca = PCA(n_components=150 , svd_solver='randomized' , whiten=True).fit(tr_hog_features)\n",
        "print(\"Time evolved\", time.time()-t)"
      ],
      "execution_count": null,
      "outputs": [
        {
          "output_type": "stream",
          "text": [
            "Time evolved 7.319055795669556\n"
          ],
          "name": "stdout"
        }
      ]
    },
    {
      "cell_type": "code",
      "metadata": {
        "colab": {
          "base_uri": "https://localhost:8080/"
        },
        "id": "LNC83L6NOdmD",
        "outputId": "72db44cf-edf6-452b-909b-974d23afaa31"
      },
      "source": [
        "joblib.dump(pca, 'pca_model.pkl')"
      ],
      "execution_count": null,
      "outputs": [
        {
          "output_type": "execute_result",
          "data": {
            "text/plain": [
              "['pca_model.pkl']"
            ]
          },
          "metadata": {
            "tags": []
          },
          "execution_count": 19
        }
      ]
    },
    {
      "cell_type": "code",
      "metadata": {
        "id": "F1YrnLBslLV4",
        "colab": {
          "base_uri": "https://localhost:8080/"
        },
        "outputId": "12a32a70-a2d7-4566-9800-52de03131b43"
      },
      "source": [
        "print(\"Projecting the input data on the orthonormal basis\")\n",
        "t0 = time.time()\n",
        "tr_hog_features_pca = pca.transform(tr_hog_features)\n",
        "ts_hog_features_pca = pca.transform(ts_hog_features)\n",
        "print(\"done in %0.3fs\" % (time.time() - t0))"
      ],
      "execution_count": null,
      "outputs": [
        {
          "output_type": "stream",
          "text": [
            "Projecting the input data on the orthonormal basis\n",
            "done in 0.441s\n"
          ],
          "name": "stdout"
        }
      ]
    },
    {
      "cell_type": "code",
      "metadata": {
        "id": "BoOC3EhBlLV5",
        "colab": {
          "base_uri": "https://localhost:8080/"
        },
        "outputId": "8c102879-35dc-4360-c5df-579f3c54fdd4"
      },
      "source": [
        "svm = SVC(kernel='rbf' , class_weight='balanced' , C=1000 , gamma=0.0082)\n",
        "svm.fit(tr_hog_features,tr_labels)"
      ],
      "execution_count": null,
      "outputs": [
        {
          "output_type": "stream",
          "text": [
            "/usr/local/lib/python3.7/dist-packages/sklearn/utils/validation.py:760: DataConversionWarning: A column-vector y was passed when a 1d array was expected. Please change the shape of y to (n_samples, ), for example using ravel().\n",
            "  y = column_or_1d(y, warn=True)\n"
          ],
          "name": "stderr"
        },
        {
          "output_type": "execute_result",
          "data": {
            "text/plain": [
              "SVC(C=1000, break_ties=False, cache_size=200, class_weight='balanced',\n",
              "    coef0=0.0, decision_function_shape='ovr', degree=3, gamma=0.0082,\n",
              "    kernel='rbf', max_iter=-1, probability=False, random_state=None,\n",
              "    shrinking=True, tol=0.001, verbose=False)"
            ]
          },
          "metadata": {
            "tags": []
          },
          "execution_count": 25
        }
      ]
    },
    {
      "cell_type": "code",
      "metadata": {
        "colab": {
          "base_uri": "https://localhost:8080/"
        },
        "id": "djcmtK-vqGx8",
        "outputId": "657400be-e177-40f7-9419-268c3127d613"
      },
      "source": [
        "print(svm.score(ts_hog_features,ts_labels))"
      ],
      "execution_count": null,
      "outputs": [
        {
          "output_type": "stream",
          "text": [
            "0.8613861386138614\n"
          ],
          "name": "stdout"
        }
      ]
    },
    {
      "cell_type": "code",
      "metadata": {
        "id": "xMVWZIV1rBqJ"
      },
      "source": [
        "#Save the Model"
      ],
      "execution_count": null,
      "outputs": []
    },
    {
      "cell_type": "code",
      "metadata": {
        "colab": {
          "base_uri": "https://localhost:8080/"
        },
        "id": "fsDcxkW6s5sv",
        "outputId": "623aaf73-1acb-4b05-ca4a-21c26838374a"
      },
      "source": [
        "# Save the model as a pickle in a file\n",
        "joblib.dump(svm, 'svm_model.pkl')\n",
        " \n",
        "# Load the model from the file\n",
        "#knn_from_joblib = joblib.load('filename.pkl') \n",
        "# Use the loaded model to make predictions\n",
        "#knn_from_joblib.predict(X_test)"
      ],
      "execution_count": null,
      "outputs": [
        {
          "output_type": "stream",
          "text": [
            "/usr/local/lib/python3.7/dist-packages/sklearn/externals/joblib/__init__.py:15: FutureWarning: sklearn.externals.joblib is deprecated in 0.21 and will be removed in 0.23. Please import this functionality directly from joblib, which can be installed with: pip install joblib. If this warning is raised when loading pickled models, you may need to re-serialize those models with scikit-learn 0.21+.\n",
            "  warnings.warn(msg, category=FutureWarning)\n"
          ],
          "name": "stderr"
        },
        {
          "output_type": "execute_result",
          "data": {
            "text/plain": [
              "['svm_model.pkl']"
            ]
          },
          "metadata": {
            "tags": []
          },
          "execution_count": 33
        }
      ]
    },
    {
      "cell_type": "code",
      "metadata": {
        "id": "99CZ_jGntMjB",
        "colab": {
          "base_uri": "https://localhost:8080/",
          "height": 35
        },
        "outputId": "91ec4523-cbf6-42de-9196-273044803f62"
      },
      "source": [
        "np.__version__"
      ],
      "execution_count": null,
      "outputs": [
        {
          "output_type": "execute_result",
          "data": {
            "application/vnd.google.colaboratory.intrinsic+json": {
              "type": "string"
            },
            "text/plain": [
              "'1.19.5'"
            ]
          },
          "metadata": {
            "tags": []
          },
          "execution_count": 31
        }
      ]
    },
    {
      "cell_type": "code",
      "metadata": {
        "colab": {
          "base_uri": "https://localhost:8080/",
          "height": 35
        },
        "id": "uzTJ7ejufhaA",
        "outputId": "7d4ed0c0-7722-437a-bb9b-8b8b337a63a4"
      },
      "source": [
        "import sklearn\n",
        "sklearn.__version__"
      ],
      "execution_count": null,
      "outputs": [
        {
          "output_type": "execute_result",
          "data": {
            "application/vnd.google.colaboratory.intrinsic+json": {
              "type": "string"
            },
            "text/plain": [
              "'0.22.2.post1'"
            ]
          },
          "metadata": {
            "tags": []
          },
          "execution_count": 33
        }
      ]
    },
    {
      "cell_type": "code",
      "metadata": {
        "id": "iyyOZabTfx2A"
      },
      "source": [
        ""
      ],
      "execution_count": null,
      "outputs": []
    }
  ]
}